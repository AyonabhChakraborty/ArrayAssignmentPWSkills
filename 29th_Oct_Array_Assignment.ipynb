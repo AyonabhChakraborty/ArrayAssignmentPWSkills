{
 "cells": [
  {
   "cell_type": "code",
   "execution_count": 4,
   "id": "f0ac61ea-a90c-4d18-ad8b-c9bb3993cf7f",
   "metadata": {},
   "outputs": [
    {
     "name": "stdout",
     "output_type": "stream",
     "text": [
      "True\n"
     ]
    }
   ],
   "source": [
    "arr = [1,2,3,4,5]\n",
    "\n",
    "def ContainsDupli(arr):\n",
    "    return len(arr) == len(set(arr))\n",
    "\n",
    "output = ContainsDupli(arr)\n",
    "print(output)"
   ]
  },
  {
   "cell_type": "code",
   "execution_count": null,
   "id": "2aa7a4d9-3ece-445d-91ae-e92c78173638",
   "metadata": {},
   "outputs": [],
   "source": []
  },
  {
   "cell_type": "code",
   "execution_count": null,
   "id": "4c5d1262-07f4-465f-beed-b18b078fd6fc",
   "metadata": {},
   "outputs": [],
   "source": []
  },
  {
   "cell_type": "code",
   "execution_count": 8,
   "id": "96456c6a-6d40-4627-9840-2ebda76985b0",
   "metadata": {},
   "outputs": [
    {
     "name": "stdout",
     "output_type": "stream",
     "text": [
      "[5, 6, 7, 1, 2, 3, 4]\n"
     ]
    }
   ],
   "source": [
    "arr = [1,2,3,4,5,6,7]\n",
    "k = 3\n",
    "\n",
    "def rotate1(arr,k):\n",
    "    \n",
    "    return arr[-k:] + arr[:-k]\n",
    "\n",
    "arrx = rotate1(arr,k)\n",
    "print(arrx)"
   ]
  },
  {
   "cell_type": "code",
   "execution_count": null,
   "id": "99d2976c-c2cf-49cf-a276-2bcd66af329c",
   "metadata": {},
   "outputs": [],
   "source": []
  },
  {
   "cell_type": "code",
   "execution_count": null,
   "id": "c64b3bd6-04c8-4f8b-a95e-e03129413cc3",
   "metadata": {},
   "outputs": [],
   "source": []
  },
  {
   "cell_type": "code",
   "execution_count": 9,
   "id": "91ed1836-9adc-428c-88a9-02b5440020dc",
   "metadata": {},
   "outputs": [
    {
     "name": "stdout",
     "output_type": "stream",
     "text": [
      "[12, 9, 7, 5, 4, 2]\n"
     ]
    }
   ],
   "source": [
    "arr = [2,4,5,7,9,12]\n",
    "\n",
    "def shift_elements(arr):\n",
    "    left = 0\n",
    "    right = len(arr) - 1\n",
    "    \n",
    "    while left < right :\n",
    "        \n",
    "        arr[left],arr[right] = arr[right],arr[left]\n",
    "        \n",
    "        left += 1\n",
    "        right -= 1\n",
    "        \n",
    "    return arr\n",
    "\n",
    "\n",
    "arrx1 =  shift_elements(arr)\n",
    "print(arrx1)\n"
   ]
  },
  {
   "cell_type": "code",
   "execution_count": null,
   "id": "138ece32-bea0-4fda-8def-b3934428f4b3",
   "metadata": {},
   "outputs": [],
   "source": []
  },
  {
   "cell_type": "code",
   "execution_count": null,
   "id": "65c36fd1-2f43-4ba5-b02b-390705fa86e8",
   "metadata": {},
   "outputs": [],
   "source": []
  },
  {
   "cell_type": "code",
   "execution_count": 10,
   "id": "6e460d65-7de5-4615-ab1a-c3e35b1c59f0",
   "metadata": {},
   "outputs": [
    {
     "name": "stdout",
     "output_type": "stream",
     "text": [
      "20\n"
     ]
    }
   ],
   "source": [
    "arr = [10,5,20,8,15]\n",
    "\n",
    "def find_max(arr):\n",
    "    max =  arr[0]\n",
    "    for i in range(len(arr)):\n",
    "        if max < arr[i]:\n",
    "            max = arr[i]\n",
    "            \n",
    "    return max\n",
    "\n",
    "\n",
    "ele =  find_max(arr)\n",
    "print(ele)"
   ]
  },
  {
   "cell_type": "code",
   "execution_count": null,
   "id": "4635e880-9caf-47ee-a1f4-96bfb4414633",
   "metadata": {},
   "outputs": [],
   "source": []
  },
  {
   "cell_type": "code",
   "execution_count": null,
   "id": "e9e22f79-6ba6-4af6-9230-d328b89019a8",
   "metadata": {},
   "outputs": [],
   "source": []
  },
  {
   "cell_type": "code",
   "execution_count": null,
   "id": "18c37f73-9e56-4540-9810-b3868f906265",
   "metadata": {},
   "outputs": [],
   "source": []
  }
 ],
 "metadata": {
  "kernelspec": {
   "display_name": "Python 3 (ipykernel)",
   "language": "python",
   "name": "python3"
  },
  "language_info": {
   "codemirror_mode": {
    "name": "ipython",
    "version": 3
   },
   "file_extension": ".py",
   "mimetype": "text/x-python",
   "name": "python",
   "nbconvert_exporter": "python",
   "pygments_lexer": "ipython3",
   "version": "3.10.8"
  }
 },
 "nbformat": 4,
 "nbformat_minor": 5
}
